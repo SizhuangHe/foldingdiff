{
 "cells": [
  {
   "cell_type": "code",
   "execution_count": 1,
   "metadata": {},
   "outputs": [
    {
     "name": "stderr",
     "output_type": "stream",
     "text": [
      "/home/sh2748/.conda/envs/foldingdiff/lib/python3.8/site-packages/tqdm/auto.py:21: TqdmWarning: IProgress not found. Please update jupyter and ipywidgets. See https://ipywidgets.readthedocs.io/en/stable/user_install.html\n",
      "  from .autonotebook import tqdm as notebook_tqdm\n"
     ]
    }
   ],
   "source": [
    "import os, sys\n",
    "import shutil\n",
    "import json\n",
    "import logging\n",
    "from pathlib import Path\n",
    "import multiprocessing\n",
    "import argparse\n",
    "import functools\n",
    "from datetime import datetime\n",
    "from typing import *\n",
    "\n",
    "import numpy as np\n",
    "from matplotlib import pyplot as plt\n",
    "\n",
    "import torch\n",
    "import torch.nn as nn\n",
    "from torch.utils.data import Dataset, Subset\n",
    "from torch.utils.data.dataloader import DataLoader\n",
    "import torch.nn.functional as F\n",
    "from einops import rearrange\n",
    "\n",
    "import pytorch_lightning as pl\n",
    "from pytorch_lightning.strategies.ddp import DDPStrategy\n",
    "\n",
    "from transformers import BertConfig\n",
    "\n",
    "from foldingdiff import datasets\n",
    "from foldingdiff import modelling\n",
    "from foldingdiff import losses\n",
    "from foldingdiff import beta_schedules\n",
    "from foldingdiff import plotting\n",
    "from foldingdiff import utils\n",
    "from foldingdiff import custom_metrics as cm\n",
    "\n",
    "assert torch.cuda.is_available(), \"Requires CUDA to train\"\n",
    "# reproducibility\n",
    "torch.manual_seed(6489)\n",
    "# torch.use_deterministic_algorithms(True)\n",
    "torch.backends.cudnn.benchmark = False\n",
    "\n",
    "# Define some typing literals\n",
    "ANGLES_DEFINITIONS = Literal[\n",
    "    \"canonical\", \"canonical-full-angles\", \"canonical-minimal-angles\", \"cart-coords\"\n",
    "]"
   ]
  },
  {
   "cell_type": "code",
   "execution_count": 2,
   "metadata": {},
   "outputs": [],
   "source": [
    "def get_train_valid_test_sets(\n",
    "    dataset_key: str = \"cath\",\n",
    "    angles_definitions: ANGLES_DEFINITIONS = \"canonical-full-angles\",\n",
    "    max_seq_len: int = 512,\n",
    "    min_seq_len: int = 0,\n",
    "    seq_trim_strategy: datasets.TRIM_STRATEGIES = \"leftalign\",\n",
    "    timesteps: int = 250,\n",
    "    variance_schedule: beta_schedules.SCHEDULES = \"linear\",\n",
    "    var_scale: float = np.pi,\n",
    "    toy: Union[int, bool] = False,\n",
    "    exhaustive_t: bool = False,\n",
    "    syn_noiser: str = \"\",\n",
    "    single_angle_debug: int = -1,  # Noise and return a single angle. -1 to disable, 1-3 for omega/theta/phi\n",
    "    single_time_debug: bool = False,  # Noise and return a single time\n",
    "    train_only: bool = False,\n",
    ") -> Tuple[Dataset, Dataset, Dataset]:\n",
    "    \"\"\"\n",
    "    Get the dataset objects to use for train/valid/test\n",
    "\n",
    "    Note, these need to be wrapped in data loaders later\n",
    "    \"\"\"\n",
    "    assert (\n",
    "        single_angle_debug != 0\n",
    "    ), f\"Invalid value for single_angle_debug: {single_angle_debug}\"\n",
    "\n",
    "    clean_dset_class = {\n",
    "        \"canonical\": datasets.CathCanonicalAnglesDataset,\n",
    "        \"canonical-full-angles\": datasets.CathCanonicalAnglesOnlyDataset,\n",
    "        \"canonical-minimal-angles\": datasets.CathCanonicalMinimalAnglesDataset,\n",
    "        \"cart-coords\": datasets.CathCanonicalCoordsDataset,\n",
    "    }[angles_definitions] # select one clean dataset class\n",
    "    logging.info(f\"Clean dataset class: {clean_dset_class}\")\n",
    "\n",
    "    splits = [\"train\"] if train_only else [\"train\", \"validation\", \"test\"]\n",
    "    logging.info(f\"Creating data splits: {splits}\")\n",
    "    clean_dsets = [\n",
    "        clean_dset_class(\n",
    "            pdbs=dataset_key,\n",
    "            split=s,\n",
    "            pad=max_seq_len,\n",
    "            min_length=min_seq_len,\n",
    "            trim_strategy=seq_trim_strategy,\n",
    "            zero_center=False if angles_definitions == \"cart-coords\" else True,\n",
    "            toy=toy,\n",
    "        )\n",
    "        for s in splits\n",
    "    ]\n",
    "    assert len(clean_dsets) == len(splits)\n",
    "    # Set the training set mean to the validation set mean\n",
    "    if len(clean_dsets) > 1 and clean_dsets[0].means is not None:\n",
    "        logging.info(f\"Updating valid/test mean offset to {clean_dsets[0].means}\")\n",
    "        for i in range(1, len(clean_dsets)):\n",
    "            clean_dsets[i].means = clean_dsets[0].means\n",
    "\n",
    "    if syn_noiser != \"\":\n",
    "        if syn_noiser == \"halfhalf\":\n",
    "            logging.warning(\"Using synthetic half-half noiser\")\n",
    "            dset_noiser_class = datasets.SynNoisedByPositionDataset\n",
    "        else:\n",
    "            raise ValueError(f\"Unknown synthetic noiser {syn_noiser}\")\n",
    "    else:\n",
    "        if single_angle_debug > 0:\n",
    "            logging.warning(\"Using single angle noise!\")\n",
    "            dset_noiser_class = functools.partial(\n",
    "                datasets.SingleNoisedAngleDataset, ft_idx=single_angle_debug\n",
    "            )\n",
    "        elif single_time_debug:\n",
    "            logging.warning(\"Using single angle and single time noise!\")\n",
    "            dset_noiser_class = datasets.SingleNoisedAngleAndTimeDataset\n",
    "        else:\n",
    "            dset_noiser_class = datasets.NoisedAnglesDataset\n",
    "\n",
    "    logging.info(f\"Using {dset_noiser_class} for noise\")\n",
    "    noised_dsets = [\n",
    "        dset_noiser_class(\n",
    "            dset=ds,\n",
    "            dset_key=\"coords\" if angles_definitions == \"cart-coords\" else \"angles\",\n",
    "            timesteps=timesteps,\n",
    "            exhaustive_t=(i != 0) and exhaustive_t,\n",
    "            beta_schedule=variance_schedule,\n",
    "            nonangular_variance=1.0,\n",
    "            angular_variance=var_scale,\n",
    "        )\n",
    "        for i, ds in enumerate(clean_dsets)\n",
    "    ]\n",
    "    for dsname, ds in zip(splits, noised_dsets):\n",
    "        logging.info(f\"{dsname}: {ds}\")\n",
    "\n",
    "    # Pad with None values\n",
    "    if len(noised_dsets) < 3:\n",
    "        noised_dsets = noised_dsets + [None] * int(3 - len(noised_dsets))\n",
    "    assert len(noised_dsets) == 3\n",
    "\n",
    "    return tuple(noised_dsets)\n"
   ]
  },
  {
   "cell_type": "markdown",
   "metadata": {},
   "source": [
    "## Clean Datasets"
   ]
  },
  {
   "cell_type": "code",
   "execution_count": 3,
   "metadata": {},
   "outputs": [],
   "source": [
    "angles_definitions = \"canonical-full-angles\"\n",
    "dataset_key = \"cath\"\n",
    "max_seq_len = 128\n",
    "min_seq_len = 0\n",
    "seq_trim_strategy = \"leftalign\"\n",
    "toy = False\n",
    "train_only = False\n",
    "\n",
    "clean_dset_class = {\n",
    "        \"canonical\": datasets.CathCanonicalAnglesDataset,\n",
    "        \"canonical-full-angles\": datasets.CathCanonicalAnglesOnlyDataset,\n",
    "        \"canonical-minimal-angles\": datasets.CathCanonicalMinimalAnglesDataset,\n",
    "        \"cart-coords\": datasets.CathCanonicalCoordsDataset,\n",
    "}[angles_definitions] # select one clean dataset class\n",
    "logging.info(f\"Clean dataset class: {clean_dset_class}\")\n",
    "\n",
    "splits = [\"train\"] if train_only else [\"train\", \"validation\", \"test\"]\n",
    "logging.info(f\"Creating data splits: {splits}\")\n",
    "clean_dsets = [\n",
    "    clean_dset_class(\n",
    "        pdbs=dataset_key,\n",
    "        split=s,\n",
    "        pad=max_seq_len,\n",
    "        min_length=min_seq_len,\n",
    "        trim_strategy=seq_trim_strategy,\n",
    "        zero_center=False if angles_definitions == \"cart-coords\" else True,\n",
    "        toy=toy,\n",
    "    )\n",
    "    for s in splits\n",
    "]\n",
    "train_dataset, valid_dataset, test_dataset = clean_dsets"
   ]
  },
  {
   "cell_type": "code",
   "execution_count": 4,
   "metadata": {},
   "outputs": [
    {
     "data": {
      "text/plain": [
       "24744"
      ]
     },
     "execution_count": 4,
     "metadata": {},
     "output_type": "execute_result"
    }
   ],
   "source": [
    "len(train_dataset)"
   ]
  },
  {
   "cell_type": "code",
   "execution_count": 6,
   "metadata": {},
   "outputs": [],
   "source": [
    "data_list = [train_dataset[i] for i in range(len(train_dataset))]"
   ]
  },
  {
   "cell_type": "code",
   "execution_count": 7,
   "metadata": {},
   "outputs": [],
   "source": [
    "import pandas as pd\n",
    "df = pd.DataFrame(data_list)"
   ]
  },
  {
   "cell_type": "code",
   "execution_count": 8,
   "metadata": {},
   "outputs": [],
   "source": [
    "df['lengths'] = df['lengths'].apply(lambda x: x.item())"
   ]
  },
  {
   "cell_type": "code",
   "execution_count": 9,
   "metadata": {},
   "outputs": [
    {
     "data": {
      "text/html": [
       "<div>\n",
       "<style scoped>\n",
       "    .dataframe tbody tr th:only-of-type {\n",
       "        vertical-align: middle;\n",
       "    }\n",
       "\n",
       "    .dataframe tbody tr th {\n",
       "        vertical-align: top;\n",
       "    }\n",
       "\n",
       "    .dataframe thead th {\n",
       "        text-align: right;\n",
       "    }\n",
       "</style>\n",
       "<table border=\"1\" class=\"dataframe\">\n",
       "  <thead>\n",
       "    <tr style=\"text-align: right;\">\n",
       "      <th></th>\n",
       "      <th>angles</th>\n",
       "      <th>coords</th>\n",
       "      <th>attn_mask</th>\n",
       "      <th>position_ids</th>\n",
       "      <th>lengths</th>\n",
       "    </tr>\n",
       "  </thead>\n",
       "  <tbody>\n",
       "    <tr>\n",
       "      <th>0</th>\n",
       "      <td>[[tensor(0.), tensor(2.2145), tensor(0.0518), ...</td>\n",
       "      <td>[[tensor(22.8600), tensor(9.1630), tensor(-16....</td>\n",
       "      <td>[tensor(1.), tensor(1.), tensor(1.), tensor(1....</td>\n",
       "      <td>[tensor(0), tensor(1), tensor(2), tensor(3), t...</td>\n",
       "      <td>128</td>\n",
       "    </tr>\n",
       "    <tr>\n",
       "      <th>1</th>\n",
       "      <td>[[tensor(0.), tensor(2.0380), tensor(-0.0854),...</td>\n",
       "      <td>[[tensor(37.8040), tensor(18.1140), tensor(74....</td>\n",
       "      <td>[tensor(1.), tensor(1.), tensor(1.), tensor(1....</td>\n",
       "      <td>[tensor(0), tensor(1), tensor(2), tensor(3), t...</td>\n",
       "      <td>128</td>\n",
       "    </tr>\n",
       "    <tr>\n",
       "      <th>2</th>\n",
       "      <td>[[tensor(0.), tensor(-0.4563), tensor(-0.0311)...</td>\n",
       "      <td>[[tensor(90.2120), tensor(-6.4020), tensor(28....</td>\n",
       "      <td>[tensor(1.), tensor(1.), tensor(1.), tensor(1....</td>\n",
       "      <td>[tensor(0), tensor(1), tensor(2), tensor(3), t...</td>\n",
       "      <td>128</td>\n",
       "    </tr>\n",
       "    <tr>\n",
       "      <th>3</th>\n",
       "      <td>[[tensor(0.), tensor(1.6385), tensor(0.0284), ...</td>\n",
       "      <td>[[tensor(15.7680), tensor(12.6430), tensor(0.1...</td>\n",
       "      <td>[tensor(1.), tensor(1.), tensor(1.), tensor(1....</td>\n",
       "      <td>[tensor(0), tensor(1), tensor(2), tensor(3), t...</td>\n",
       "      <td>60</td>\n",
       "    </tr>\n",
       "    <tr>\n",
       "      <th>4</th>\n",
       "      <td>[[tensor(0.), tensor(-1.5024), tensor(0.0227),...</td>\n",
       "      <td>[[tensor(31.5080), tensor(33.7230), tensor(66....</td>\n",
       "      <td>[tensor(1.), tensor(1.), tensor(1.), tensor(1....</td>\n",
       "      <td>[tensor(0), tensor(1), tensor(2), tensor(3), t...</td>\n",
       "      <td>56</td>\n",
       "    </tr>\n",
       "  </tbody>\n",
       "</table>\n",
       "</div>"
      ],
      "text/plain": [
       "                                              angles  \\\n",
       "0  [[tensor(0.), tensor(2.2145), tensor(0.0518), ...   \n",
       "1  [[tensor(0.), tensor(2.0380), tensor(-0.0854),...   \n",
       "2  [[tensor(0.), tensor(-0.4563), tensor(-0.0311)...   \n",
       "3  [[tensor(0.), tensor(1.6385), tensor(0.0284), ...   \n",
       "4  [[tensor(0.), tensor(-1.5024), tensor(0.0227),...   \n",
       "\n",
       "                                              coords  \\\n",
       "0  [[tensor(22.8600), tensor(9.1630), tensor(-16....   \n",
       "1  [[tensor(37.8040), tensor(18.1140), tensor(74....   \n",
       "2  [[tensor(90.2120), tensor(-6.4020), tensor(28....   \n",
       "3  [[tensor(15.7680), tensor(12.6430), tensor(0.1...   \n",
       "4  [[tensor(31.5080), tensor(33.7230), tensor(66....   \n",
       "\n",
       "                                           attn_mask  \\\n",
       "0  [tensor(1.), tensor(1.), tensor(1.), tensor(1....   \n",
       "1  [tensor(1.), tensor(1.), tensor(1.), tensor(1....   \n",
       "2  [tensor(1.), tensor(1.), tensor(1.), tensor(1....   \n",
       "3  [tensor(1.), tensor(1.), tensor(1.), tensor(1....   \n",
       "4  [tensor(1.), tensor(1.), tensor(1.), tensor(1....   \n",
       "\n",
       "                                        position_ids  lengths  \n",
       "0  [tensor(0), tensor(1), tensor(2), tensor(3), t...      128  \n",
       "1  [tensor(0), tensor(1), tensor(2), tensor(3), t...      128  \n",
       "2  [tensor(0), tensor(1), tensor(2), tensor(3), t...      128  \n",
       "3  [tensor(0), tensor(1), tensor(2), tensor(3), t...       60  \n",
       "4  [tensor(0), tensor(1), tensor(2), tensor(3), t...       56  "
      ]
     },
     "execution_count": 9,
     "metadata": {},
     "output_type": "execute_result"
    }
   ],
   "source": [
    "df.head()"
   ]
  },
  {
   "cell_type": "code",
   "execution_count": 10,
   "metadata": {},
   "outputs": [
    {
     "data": {
      "text/plain": [
       "128    12729\n",
       "106      193\n",
       "102      191\n",
       "101      190\n",
       "91       185\n",
       "       ...  \n",
       "15         4\n",
       "16         4\n",
       "14         2\n",
       "9          2\n",
       "11         1\n",
       "Name: lengths, Length: 118, dtype: int64"
      ]
     },
     "execution_count": 10,
     "metadata": {},
     "output_type": "execute_result"
    }
   ],
   "source": [
    "df['lengths'].value_counts()"
   ]
  },
  {
   "cell_type": "code",
   "execution_count": 11,
   "metadata": {},
   "outputs": [
    {
     "data": {
      "text/html": [
       "<div>\n",
       "<style scoped>\n",
       "    .dataframe tbody tr th:only-of-type {\n",
       "        vertical-align: middle;\n",
       "    }\n",
       "\n",
       "    .dataframe tbody tr th {\n",
       "        vertical-align: top;\n",
       "    }\n",
       "\n",
       "    .dataframe thead th {\n",
       "        text-align: right;\n",
       "    }\n",
       "</style>\n",
       "<table border=\"1\" class=\"dataframe\">\n",
       "  <thead>\n",
       "    <tr style=\"text-align: right;\">\n",
       "      <th></th>\n",
       "      <th>angles</th>\n",
       "      <th>coords</th>\n",
       "      <th>attn_mask</th>\n",
       "      <th>position_ids</th>\n",
       "      <th>lengths</th>\n",
       "    </tr>\n",
       "  </thead>\n",
       "  <tbody>\n",
       "    <tr>\n",
       "      <th>0</th>\n",
       "      <td>[[tensor(0.), tensor(2.2145), tensor(0.0518), ...</td>\n",
       "      <td>[[tensor(22.8600), tensor(9.1630), tensor(-16....</td>\n",
       "      <td>[tensor(1.), tensor(1.), tensor(1.), tensor(1....</td>\n",
       "      <td>[tensor(0), tensor(1), tensor(2), tensor(3), t...</td>\n",
       "      <td>128</td>\n",
       "    </tr>\n",
       "    <tr>\n",
       "      <th>13770</th>\n",
       "      <td>[[tensor(0.), tensor(2.4728), tensor(0.0865), ...</td>\n",
       "      <td>[[tensor(81.3980), tensor(60.9990), tensor(17....</td>\n",
       "      <td>[tensor(1.), tensor(1.), tensor(1.), tensor(1....</td>\n",
       "      <td>[tensor(0), tensor(1), tensor(2), tensor(3), t...</td>\n",
       "      <td>128</td>\n",
       "    </tr>\n",
       "    <tr>\n",
       "      <th>13772</th>\n",
       "      <td>[[tensor(0.), tensor(0.0685), tensor(-0.0457),...</td>\n",
       "      <td>[[tensor(4.8600), tensor(33.1790), tensor(30.4...</td>\n",
       "      <td>[tensor(1.), tensor(1.), tensor(1.), tensor(1....</td>\n",
       "      <td>[tensor(0), tensor(1), tensor(2), tensor(3), t...</td>\n",
       "      <td>128</td>\n",
       "    </tr>\n",
       "    <tr>\n",
       "      <th>13773</th>\n",
       "      <td>[[tensor(0.), tensor(-0.7958), tensor(0.0570),...</td>\n",
       "      <td>[[tensor(-8.3990), tensor(-51.4170), tensor(10...</td>\n",
       "      <td>[tensor(1.), tensor(1.), tensor(1.), tensor(1....</td>\n",
       "      <td>[tensor(0), tensor(1), tensor(2), tensor(3), t...</td>\n",
       "      <td>128</td>\n",
       "    </tr>\n",
       "    <tr>\n",
       "      <th>13774</th>\n",
       "      <td>[[tensor(0.), tensor(2.2847), tensor(0.0195), ...</td>\n",
       "      <td>[[tensor(63.0130), tensor(37.3180), tensor(-3....</td>\n",
       "      <td>[tensor(1.), tensor(1.), tensor(1.), tensor(1....</td>\n",
       "      <td>[tensor(0), tensor(1), tensor(2), tensor(3), t...</td>\n",
       "      <td>128</td>\n",
       "    </tr>\n",
       "  </tbody>\n",
       "</table>\n",
       "</div>"
      ],
      "text/plain": [
       "                                                  angles  \\\n",
       "0      [[tensor(0.), tensor(2.2145), tensor(0.0518), ...   \n",
       "13770  [[tensor(0.), tensor(2.4728), tensor(0.0865), ...   \n",
       "13772  [[tensor(0.), tensor(0.0685), tensor(-0.0457),...   \n",
       "13773  [[tensor(0.), tensor(-0.7958), tensor(0.0570),...   \n",
       "13774  [[tensor(0.), tensor(2.2847), tensor(0.0195), ...   \n",
       "\n",
       "                                                  coords  \\\n",
       "0      [[tensor(22.8600), tensor(9.1630), tensor(-16....   \n",
       "13770  [[tensor(81.3980), tensor(60.9990), tensor(17....   \n",
       "13772  [[tensor(4.8600), tensor(33.1790), tensor(30.4...   \n",
       "13773  [[tensor(-8.3990), tensor(-51.4170), tensor(10...   \n",
       "13774  [[tensor(63.0130), tensor(37.3180), tensor(-3....   \n",
       "\n",
       "                                               attn_mask  \\\n",
       "0      [tensor(1.), tensor(1.), tensor(1.), tensor(1....   \n",
       "13770  [tensor(1.), tensor(1.), tensor(1.), tensor(1....   \n",
       "13772  [tensor(1.), tensor(1.), tensor(1.), tensor(1....   \n",
       "13773  [tensor(1.), tensor(1.), tensor(1.), tensor(1....   \n",
       "13774  [tensor(1.), tensor(1.), tensor(1.), tensor(1....   \n",
       "\n",
       "                                            position_ids  lengths  \n",
       "0      [tensor(0), tensor(1), tensor(2), tensor(3), t...      128  \n",
       "13770  [tensor(0), tensor(1), tensor(2), tensor(3), t...      128  \n",
       "13772  [tensor(0), tensor(1), tensor(2), tensor(3), t...      128  \n",
       "13773  [tensor(0), tensor(1), tensor(2), tensor(3), t...      128  \n",
       "13774  [tensor(0), tensor(1), tensor(2), tensor(3), t...      128  "
      ]
     },
     "execution_count": 11,
     "metadata": {},
     "output_type": "execute_result"
    }
   ],
   "source": [
    "df_sorted = df.sort_values(by='lengths', ascending=False)\n",
    "df_sorted.head()"
   ]
  },
  {
   "cell_type": "code",
   "execution_count": 12,
   "metadata": {},
   "outputs": [
    {
     "data": {
      "text/html": [
       "<div>\n",
       "<style scoped>\n",
       "    .dataframe tbody tr th:only-of-type {\n",
       "        vertical-align: middle;\n",
       "    }\n",
       "\n",
       "    .dataframe tbody tr th {\n",
       "        vertical-align: top;\n",
       "    }\n",
       "\n",
       "    .dataframe thead th {\n",
       "        text-align: right;\n",
       "    }\n",
       "</style>\n",
       "<table border=\"1\" class=\"dataframe\">\n",
       "  <thead>\n",
       "    <tr style=\"text-align: right;\">\n",
       "      <th></th>\n",
       "      <th>angles</th>\n",
       "      <th>coords</th>\n",
       "      <th>attn_mask</th>\n",
       "      <th>position_ids</th>\n",
       "      <th>lengths</th>\n",
       "    </tr>\n",
       "  </thead>\n",
       "  <tbody>\n",
       "    <tr>\n",
       "      <th>0</th>\n",
       "      <td>[[tensor(0.), tensor(2.2145), tensor(0.0518), ...</td>\n",
       "      <td>[[tensor(22.8600), tensor(9.1630), tensor(-16....</td>\n",
       "      <td>[tensor(1.), tensor(1.), tensor(1.), tensor(1....</td>\n",
       "      <td>[tensor(0), tensor(1), tensor(2), tensor(3), t...</td>\n",
       "      <td>128</td>\n",
       "    </tr>\n",
       "    <tr>\n",
       "      <th>13770</th>\n",
       "      <td>[[tensor(0.), tensor(2.4728), tensor(0.0865), ...</td>\n",
       "      <td>[[tensor(81.3980), tensor(60.9990), tensor(17....</td>\n",
       "      <td>[tensor(1.), tensor(1.), tensor(1.), tensor(1....</td>\n",
       "      <td>[tensor(0), tensor(1), tensor(2), tensor(3), t...</td>\n",
       "      <td>128</td>\n",
       "    </tr>\n",
       "    <tr>\n",
       "      <th>13772</th>\n",
       "      <td>[[tensor(0.), tensor(0.0685), tensor(-0.0457),...</td>\n",
       "      <td>[[tensor(4.8600), tensor(33.1790), tensor(30.4...</td>\n",
       "      <td>[tensor(1.), tensor(1.), tensor(1.), tensor(1....</td>\n",
       "      <td>[tensor(0), tensor(1), tensor(2), tensor(3), t...</td>\n",
       "      <td>128</td>\n",
       "    </tr>\n",
       "    <tr>\n",
       "      <th>13773</th>\n",
       "      <td>[[tensor(0.), tensor(-0.7958), tensor(0.0570),...</td>\n",
       "      <td>[[tensor(-8.3990), tensor(-51.4170), tensor(10...</td>\n",
       "      <td>[tensor(1.), tensor(1.), tensor(1.), tensor(1....</td>\n",
       "      <td>[tensor(0), tensor(1), tensor(2), tensor(3), t...</td>\n",
       "      <td>128</td>\n",
       "    </tr>\n",
       "    <tr>\n",
       "      <th>13774</th>\n",
       "      <td>[[tensor(0.), tensor(2.2847), tensor(0.0195), ...</td>\n",
       "      <td>[[tensor(63.0130), tensor(37.3180), tensor(-3....</td>\n",
       "      <td>[tensor(1.), tensor(1.), tensor(1.), tensor(1....</td>\n",
       "      <td>[tensor(0), tensor(1), tensor(2), tensor(3), t...</td>\n",
       "      <td>128</td>\n",
       "    </tr>\n",
       "  </tbody>\n",
       "</table>\n",
       "</div>"
      ],
      "text/plain": [
       "                                                  angles  \\\n",
       "0      [[tensor(0.), tensor(2.2145), tensor(0.0518), ...   \n",
       "13770  [[tensor(0.), tensor(2.4728), tensor(0.0865), ...   \n",
       "13772  [[tensor(0.), tensor(0.0685), tensor(-0.0457),...   \n",
       "13773  [[tensor(0.), tensor(-0.7958), tensor(0.0570),...   \n",
       "13774  [[tensor(0.), tensor(2.2847), tensor(0.0195), ...   \n",
       "\n",
       "                                                  coords  \\\n",
       "0      [[tensor(22.8600), tensor(9.1630), tensor(-16....   \n",
       "13770  [[tensor(81.3980), tensor(60.9990), tensor(17....   \n",
       "13772  [[tensor(4.8600), tensor(33.1790), tensor(30.4...   \n",
       "13773  [[tensor(-8.3990), tensor(-51.4170), tensor(10...   \n",
       "13774  [[tensor(63.0130), tensor(37.3180), tensor(-3....   \n",
       "\n",
       "                                               attn_mask  \\\n",
       "0      [tensor(1.), tensor(1.), tensor(1.), tensor(1....   \n",
       "13770  [tensor(1.), tensor(1.), tensor(1.), tensor(1....   \n",
       "13772  [tensor(1.), tensor(1.), tensor(1.), tensor(1....   \n",
       "13773  [tensor(1.), tensor(1.), tensor(1.), tensor(1....   \n",
       "13774  [tensor(1.), tensor(1.), tensor(1.), tensor(1....   \n",
       "\n",
       "                                            position_ids  lengths  \n",
       "0      [tensor(0), tensor(1), tensor(2), tensor(3), t...      128  \n",
       "13770  [tensor(0), tensor(1), tensor(2), tensor(3), t...      128  \n",
       "13772  [tensor(0), tensor(1), tensor(2), tensor(3), t...      128  \n",
       "13773  [tensor(0), tensor(1), tensor(2), tensor(3), t...      128  \n",
       "13774  [tensor(0), tensor(1), tensor(2), tensor(3), t...      128  "
      ]
     },
     "execution_count": 12,
     "metadata": {},
     "output_type": "execute_result"
    }
   ],
   "source": [
    "subset_df = df_sorted[df_sorted['lengths'] == 128]\n",
    "subset_df.head()"
   ]
  },
  {
   "cell_type": "code",
   "execution_count": 13,
   "metadata": {},
   "outputs": [
    {
     "data": {
      "text/plain": [
       "12729"
      ]
     },
     "execution_count": 13,
     "metadata": {},
     "output_type": "execute_result"
    }
   ],
   "source": [
    "# filtered_df = df[(df['lengths'] >= 60) & (df['lengths'] <= 128)]\n",
    "\n",
    "filtered_df = df[(df['lengths'] == 128)]\n",
    "# Count the number of rows in the filtered DataFrame\n",
    "count = len(filtered_df)\n",
    "count"
   ]
  },
  {
   "cell_type": "code",
   "execution_count": 14,
   "metadata": {},
   "outputs": [
    {
     "data": {
      "text/html": [
       "<div>\n",
       "<style scoped>\n",
       "    .dataframe tbody tr th:only-of-type {\n",
       "        vertical-align: middle;\n",
       "    }\n",
       "\n",
       "    .dataframe tbody tr th {\n",
       "        vertical-align: top;\n",
       "    }\n",
       "\n",
       "    .dataframe thead th {\n",
       "        text-align: right;\n",
       "    }\n",
       "</style>\n",
       "<table border=\"1\" class=\"dataframe\">\n",
       "  <thead>\n",
       "    <tr style=\"text-align: right;\">\n",
       "      <th></th>\n",
       "      <th>angles</th>\n",
       "      <th>coords</th>\n",
       "      <th>attn_mask</th>\n",
       "      <th>position_ids</th>\n",
       "      <th>lengths</th>\n",
       "    </tr>\n",
       "  </thead>\n",
       "  <tbody>\n",
       "    <tr>\n",
       "      <th>0</th>\n",
       "      <td>[[tensor(0.), tensor(2.2145), tensor(0.0518), ...</td>\n",
       "      <td>[[tensor(22.8600), tensor(9.1630), tensor(-16....</td>\n",
       "      <td>[tensor(1.), tensor(1.), tensor(1.), tensor(1....</td>\n",
       "      <td>[tensor(0), tensor(1), tensor(2), tensor(3), t...</td>\n",
       "      <td>128</td>\n",
       "    </tr>\n",
       "    <tr>\n",
       "      <th>1</th>\n",
       "      <td>[[tensor(0.), tensor(2.0380), tensor(-0.0854),...</td>\n",
       "      <td>[[tensor(37.8040), tensor(18.1140), tensor(74....</td>\n",
       "      <td>[tensor(1.), tensor(1.), tensor(1.), tensor(1....</td>\n",
       "      <td>[tensor(0), tensor(1), tensor(2), tensor(3), t...</td>\n",
       "      <td>128</td>\n",
       "    </tr>\n",
       "    <tr>\n",
       "      <th>2</th>\n",
       "      <td>[[tensor(0.), tensor(-0.4563), tensor(-0.0311)...</td>\n",
       "      <td>[[tensor(90.2120), tensor(-6.4020), tensor(28....</td>\n",
       "      <td>[tensor(1.), tensor(1.), tensor(1.), tensor(1....</td>\n",
       "      <td>[tensor(0), tensor(1), tensor(2), tensor(3), t...</td>\n",
       "      <td>128</td>\n",
       "    </tr>\n",
       "    <tr>\n",
       "      <th>5</th>\n",
       "      <td>[[tensor(0.), tensor(3.0645), tensor(0.1065), ...</td>\n",
       "      <td>[[tensor(32.4950), tensor(16.9030), tensor(16....</td>\n",
       "      <td>[tensor(1.), tensor(1.), tensor(1.), tensor(1....</td>\n",
       "      <td>[tensor(0), tensor(1), tensor(2), tensor(3), t...</td>\n",
       "      <td>128</td>\n",
       "    </tr>\n",
       "    <tr>\n",
       "      <th>6</th>\n",
       "      <td>[[tensor(0.), tensor(-3.0076), tensor(-0.0180)...</td>\n",
       "      <td>[[tensor(14.1050), tensor(4.7190), tensor(40.3...</td>\n",
       "      <td>[tensor(1.), tensor(1.), tensor(1.), tensor(1....</td>\n",
       "      <td>[tensor(0), tensor(1), tensor(2), tensor(3), t...</td>\n",
       "      <td>128</td>\n",
       "    </tr>\n",
       "  </tbody>\n",
       "</table>\n",
       "</div>"
      ],
      "text/plain": [
       "                                              angles  \\\n",
       "0  [[tensor(0.), tensor(2.2145), tensor(0.0518), ...   \n",
       "1  [[tensor(0.), tensor(2.0380), tensor(-0.0854),...   \n",
       "2  [[tensor(0.), tensor(-0.4563), tensor(-0.0311)...   \n",
       "5  [[tensor(0.), tensor(3.0645), tensor(0.1065), ...   \n",
       "6  [[tensor(0.), tensor(-3.0076), tensor(-0.0180)...   \n",
       "\n",
       "                                              coords  \\\n",
       "0  [[tensor(22.8600), tensor(9.1630), tensor(-16....   \n",
       "1  [[tensor(37.8040), tensor(18.1140), tensor(74....   \n",
       "2  [[tensor(90.2120), tensor(-6.4020), tensor(28....   \n",
       "5  [[tensor(32.4950), tensor(16.9030), tensor(16....   \n",
       "6  [[tensor(14.1050), tensor(4.7190), tensor(40.3...   \n",
       "\n",
       "                                           attn_mask  \\\n",
       "0  [tensor(1.), tensor(1.), tensor(1.), tensor(1....   \n",
       "1  [tensor(1.), tensor(1.), tensor(1.), tensor(1....   \n",
       "2  [tensor(1.), tensor(1.), tensor(1.), tensor(1....   \n",
       "5  [tensor(1.), tensor(1.), tensor(1.), tensor(1....   \n",
       "6  [tensor(1.), tensor(1.), tensor(1.), tensor(1....   \n",
       "\n",
       "                                        position_ids  lengths  \n",
       "0  [tensor(0), tensor(1), tensor(2), tensor(3), t...      128  \n",
       "1  [tensor(0), tensor(1), tensor(2), tensor(3), t...      128  \n",
       "2  [tensor(0), tensor(1), tensor(2), tensor(3), t...      128  \n",
       "5  [tensor(0), tensor(1), tensor(2), tensor(3), t...      128  \n",
       "6  [tensor(0), tensor(1), tensor(2), tensor(3), t...      128  "
      ]
     },
     "execution_count": 14,
     "metadata": {},
     "output_type": "execute_result"
    }
   ],
   "source": [
    "filtered_df.head()"
   ]
  },
  {
   "cell_type": "code",
   "execution_count": 18,
   "metadata": {},
   "outputs": [
    {
     "name": "stderr",
     "output_type": "stream",
     "text": [
      "/tmp/tmp.iD1eevmCgx/ipykernel_1448233/2656042750.py:1: FutureWarning: You are using `torch.load` with `weights_only=False` (the current default value), which uses the default pickle module implicitly. It is possible to construct malicious pickle data which will execute arbitrary code during unpickling (See https://github.com/pytorch/pytorch/blob/main/SECURITY.md#untrusted-models for more details). In a future release, the default value for `weights_only` will be flipped to `True`. This limits the functions that could be executed during unpickling. Arbitrary objects will no longer be allowed to be loaded via this mode unless they are explicitly allowlisted by the user via `torch.serialization.add_safe_globals`. We recommend you start setting `weights_only=True` for any use case where you don't have full control of the loaded file. Please open an issue on GitHub for any issues related to this experimental feature.\n",
      "  ts = torch.load('protein_angles_60_128.pt')\n"
     ]
    },
    {
     "data": {
      "text/plain": [
       "torch.Size([22806, 128, 6])"
      ]
     },
     "execution_count": 18,
     "metadata": {},
     "output_type": "execute_result"
    }
   ],
   "source": [
    "ts = torch.load('protein_angles_60_128.pt')\n",
    "ts.shape"
   ]
  },
  {
   "cell_type": "code",
   "execution_count": 23,
   "metadata": {},
   "outputs": [],
   "source": [
    "torch.save(filtered_df['angles'][0].unsqueeze(0), 'protein_angles_1sanity_128.pt')"
   ]
  },
  {
   "cell_type": "code",
   "execution_count": 28,
   "metadata": {},
   "outputs": [],
   "source": [
    "torch.save(torch.stack(filtered_df['angles'].head(100).tolist()),  'protein_angles_100sanity_128.pt')"
   ]
  },
  {
   "cell_type": "code",
   "execution_count": 2,
   "metadata": {},
   "outputs": [],
   "source": [
    "# Define a PyTorch Dataset class\n",
    "class MyDataset(Dataset):\n",
    "    def __init__(self, dataframe=None, data_path=None):\n",
    "        if data_path is not None:\n",
    "            print(f\"Initializing from a data path: {data_path}\")\n",
    "            self.data = torch.load(data_path)\n",
    "        elif data_path is None and dataframe is not None:\n",
    "            print(\"Initializing from a dataframe.\")\n",
    "            self.data = torch.stack(dataframe['angles'].tolist())\n",
    "        else:\n",
    "            raise Exception(\"Dataframe and data path are both None!\")\n",
    "        \n",
    "         \n",
    "    def __len__(self):\n",
    "        return len(self.data)\n",
    "\n",
    "    def __getitem__(self, idx):\n",
    "        return self.data[idx]"
   ]
  },
  {
   "cell_type": "code",
   "execution_count": 3,
   "metadata": {},
   "outputs": [
    {
     "name": "stdout",
     "output_type": "stream",
     "text": [
      "Initializing from a data path: protein_angles_60_128.pt\n"
     ]
    },
    {
     "name": "stderr",
     "output_type": "stream",
     "text": [
      "/tmp/tmp.qSyGzaLx8N/ipykernel_3758058/2395865528.py:6: FutureWarning: You are using `torch.load` with `weights_only=False` (the current default value), which uses the default pickle module implicitly. It is possible to construct malicious pickle data which will execute arbitrary code during unpickling (See https://github.com/pytorch/pytorch/blob/main/SECURITY.md#untrusted-models for more details). In a future release, the default value for `weights_only` will be flipped to `True`. This limits the functions that could be executed during unpickling. Arbitrary objects will no longer be allowed to be loaded via this mode unless they are explicitly allowlisted by the user via `torch.serialization.add_safe_globals`. We recommend you start setting `weights_only=True` for any use case where you don't have full control of the loaded file. Please open an issue on GitHub for any issues related to this experimental feature.\n",
      "  self.data = torch.load(data_path)\n",
      "/home/sh2748/.conda/envs/foldingdiff/lib/python3.8/site-packages/torch/utils/data/dataloader.py:557: UserWarning: This DataLoader will create 4 worker processes in total. Our suggested max number of worker in current system is 1, which is smaller than what this DataLoader is going to create. Please be aware that excessive worker creation might get DataLoader running slow or even freeze, lower the worker number to avoid potential slowness/freeze if necessary.\n",
      "  warnings.warn(_create_warning_msg(\n"
     ]
    }
   ],
   "source": [
    "# Initialize the dataset with the DataFrame\n",
    "dataset = MyDataset(data_path=\"protein_angles_60_128.pt\")\n",
    "dataloader = DataLoader(\n",
    "    dataset,\n",
    "    batch_size=32,       # Number of samples per batch\n",
    "    shuffle=True,        # Shuffle the data at every epoch\n",
    "    num_workers=4        # Number of subprocesses to use for data loading\n",
    ")"
   ]
  },
  {
   "cell_type": "code",
   "execution_count": 4,
   "metadata": {},
   "outputs": [
    {
     "data": {
      "text/plain": [
       "torch.Size([32, 128, 6])"
      ]
     },
     "execution_count": 4,
     "metadata": {},
     "output_type": "execute_result"
    }
   ],
   "source": [
    "batch = next(iter(dataloader))\n",
    "batch.shape"
   ]
  },
  {
   "cell_type": "code",
   "execution_count": 5,
   "metadata": {},
   "outputs": [
    {
     "name": "stdout",
     "output_type": "stream",
     "text": [
      "Noise is not varying.\n"
     ]
    }
   ],
   "source": [
    "from IntegralFlowMatching.integral_flow_matching import IntegralFlowMatcher\n",
    "IFM = IntegralFlowMatcher(sigma=0.1, same_time=True, time_interp=True, noise_on_x0=True, noise_on_x1=True)"
   ]
  },
  {
   "cell_type": "code",
   "execution_count": 10,
   "metadata": {},
   "outputs": [
    {
     "data": {
      "text/plain": [
       "torch.Size([32, 128, 6])"
      ]
     },
     "execution_count": 10,
     "metadata": {},
     "output_type": "execute_result"
    }
   ],
   "source": [
    "x0 = torch.randn_like(batch)\n",
    "x0.shape"
   ]
  },
  {
   "cell_type": "code",
   "execution_count": 32,
   "metadata": {},
   "outputs": [
    {
     "name": "stdout",
     "output_type": "stream",
     "text": [
      "Shapes:torch.Size([32, 16, 128, 6]), torch.Size([32, 16, 128, 6])\n",
      "Any out of range values in xt: True\n",
      "Any out of range values in mu_t: True\n"
     ]
    }
   ],
   "source": [
    "t, xt, mu_t = IFM.sample_conditional_flow(rearrange(x0, 'b s d -> b (s d)').to(\"cuda\"), rearrange(batch, 'b s d -> b (s d)').to(\"cuda\"), 16,  device = \"cuda\")\n",
    "xt = rearrange(xt, 'b t (s d) -> b t s d', s=x0.shape[1])\n",
    "mu_t = rearrange(mu_t, 'b t (s d) -> b t s d', s=x0.shape[1])\n",
    "print(f\"Shapes:{xt.shape}, {mu_t.shape}\")\n",
    "print(f\"Any out of range values in xt: {((xt < -np.pi) | (xt > np.pi)).any().item()}\")\n",
    "print(f\"Any out of range values in mu_t: {((mu_t < -np.pi) | (mu_t > np.pi)).any().item()}\")"
   ]
  },
  {
   "cell_type": "code",
   "execution_count": 28,
   "metadata": {},
   "outputs": [],
   "source": [
    "def modulo_with_wrapped_range(\n",
    "    vals, range_min: float = -np.pi, range_max: float = np.pi\n",
    "):\n",
    "    \"\"\"\n",
    "    Modulo with wrapped range -- capable of handing a range with a negative min\n",
    "\n",
    "    modulo_with_wrapped_range(3, -2, 2)\n",
    "    -1\n",
    "    \"\"\"\n",
    "    assert range_min <= 0.0\n",
    "    assert range_min < range_max\n",
    "\n",
    "    # Modulo after we shift values\n",
    "    top_end = range_max - range_min\n",
    "    # Shift the values to be in the range [0, top_end)\n",
    "    vals_shifted = vals - range_min\n",
    "    # Perform modulo\n",
    "    vals_shifted_mod = vals_shifted % top_end\n",
    "    # Shift back down\n",
    "    retval = vals_shifted_mod + range_min\n",
    "\n",
    "    # Checks\n",
    "    # print(\"Mod return\", vals, \" --> \", retval)\n",
    "    # if isinstance(retval, torch.Tensor):\n",
    "    #     notnan_idx = ~torch.isnan(retval)\n",
    "    #     assert torch.all(retval[notnan_idx] >= range_min)\n",
    "    #     assert torch.all(retval[notnan_idx] < range_max)\n",
    "    # else:\n",
    "    #     assert (\n",
    "    #         np.nanmin(retval) >= range_min\n",
    "    #     ), f\"Illegal value: {np.nanmin(retval)} < {range_min}\"\n",
    "    #     assert (\n",
    "    #         np.nanmax(retval) <= range_max\n",
    "    #     ), f\"Illegal value: {np.nanmax(retval)} > {range_max}\"\n",
    "    return retval"
   ]
  },
  {
   "cell_type": "code",
   "execution_count": 33,
   "metadata": {},
   "outputs": [
    {
     "name": "stdout",
     "output_type": "stream",
     "text": [
      "Shapes:torch.Size([32, 16, 128, 6]), torch.Size([32, 16, 128, 6])\n",
      "Any out of range values in xt: False\n",
      "Any out of range values in mu_t: False\n"
     ]
    }
   ],
   "source": [
    "xt = modulo_with_wrapped_range(xt)\n",
    "mu_t = modulo_with_wrapped_range(mu_t)\n",
    "print(f\"Shapes:{xt.shape}, {mu_t.shape}\")\n",
    "print(f\"Any out of range values in xt: {((xt < -np.pi) | (xt > np.pi)).any().item()}\")\n",
    "print(f\"Any out of range values in mu_t: {((mu_t < -np.pi) | (mu_t > np.pi)).any().item()}\")"
   ]
  },
  {
   "cell_type": "code",
   "execution_count": 1,
   "metadata": {},
   "outputs": [
    {
     "ename": "NameError",
     "evalue": "name 'nn' is not defined",
     "output_type": "error",
     "traceback": [
      "\u001b[0;31m---------------------------------------------------------------------------\u001b[0m",
      "\u001b[0;31mNameError\u001b[0m                                 Traceback (most recent call last)",
      "Cell \u001b[0;32mIn[1], line 1\u001b[0m\n\u001b[0;32m----> 1\u001b[0m \u001b[39mclass\u001b[39;00m \u001b[39mSimpleMLP\u001b[39;00m(nn\u001b[39m.\u001b[39mModule):\n\u001b[1;32m      2\u001b[0m     \u001b[39mdef\u001b[39;00m \u001b[39m__init__\u001b[39m(\u001b[39mself\u001b[39m, input_size, hidden_size, output_size, dropout_prob\u001b[39m=\u001b[39m\u001b[39m0.1\u001b[39m):\n\u001b[1;32m      3\u001b[0m         \u001b[39msuper\u001b[39m(SimpleMLP, \u001b[39mself\u001b[39m)\u001b[39m.\u001b[39m\u001b[39m__init__\u001b[39m()\n",
      "\u001b[0;31mNameError\u001b[0m: name 'nn' is not defined"
     ]
    }
   ],
   "source": [
    "class SimpleMLP(nn.Module):\n",
    "    def __init__(self, input_size, hidden_size, output_size, dropout_prob=0.1):\n",
    "        super(SimpleMLP, self).__init__()\n",
    "        self.fc1 = nn.Linear(input_size, hidden_size)\n",
    "        self.relu = nn.ReLU()\n",
    "        self.fc2 = nn.Linear(hidden_size, output_size)\n",
    "        self.dropout = nn.Dropout(p=dropout_prob)\n",
    "    \n",
    "    def forward(self, x):\n",
    "        x = self.fc1(x)\n",
    "        x = self.relu(x)\n",
    "        x = self.fc2(x)\n",
    "        x = self.dropout(x)\n",
    "        return x\n"
   ]
  },
  {
   "cell_type": "code",
   "execution_count": null,
   "metadata": {},
   "outputs": [],
   "source": [
    "class ProteinAngleFlowModel(nn.Module):\n",
    "    def __init__(self, \n",
    "    ):\n",
    "        super().__init__()\n",
    "        # Encoder (GPT2)\n",
    "        self.proj_in = SimpleMLP(input)\n",
    "        self.proj_out = \n",
    "        self.llm_model = \n",
    "        self.vae_decoder = \n",
    "\n",
    "    def forward(self,\n",
    "    ):"
   ]
  },
  {
   "cell_type": "code",
   "execution_count": 7,
   "metadata": {},
   "outputs": [
    {
     "data": {
      "text/plain": [
       "tensor([[ 0.0000,  2.2145,  0.0518,  0.0390, -0.0134,  0.0068],\n",
       "        [ 0.1364, -0.5284, -0.0071, -0.0154,  0.0180, -0.0256],\n",
       "        [ 0.2117,  2.3975, -0.0455, -0.0371,  0.0043, -0.0101],\n",
       "        ...,\n",
       "        [ 0.1442, -0.6894,  0.0292, -0.0181, -0.0317, -0.0042],\n",
       "        [-1.4266,  2.5585, -0.2056, -0.0346,  0.0207, -0.0707],\n",
       "        [-0.9670,  2.7036, -0.0675, -0.0445,  0.0050, -0.0678]])"
      ]
     },
     "execution_count": 7,
     "metadata": {},
     "output_type": "execute_result"
    }
   ],
   "source": [
    "angles.reshape(-1, 6)"
   ]
  },
  {
   "cell_type": "code",
   "execution_count": 25,
   "metadata": {},
   "outputs": [
    {
     "name": "stderr",
     "output_type": "stream",
     "text": [
      "/tmp/tmp.iD1eevmCgx/ipykernel_1469539/2484385062.py:4: FutureWarning: You are using `torch.load` with `weights_only=False` (the current default value), which uses the default pickle module implicitly. It is possible to construct malicious pickle data which will execute arbitrary code during unpickling (See https://github.com/pytorch/pytorch/blob/main/SECURITY.md#untrusted-models for more details). In a future release, the default value for `weights_only` will be flipped to `True`. This limits the functions that could be executed during unpickling. Arbitrary objects will no longer be allowed to be loaded via this mode unless they are explicitly allowlisted by the user via `torch.serialization.add_safe_globals`. We recommend you start setting `weights_only=True` for any use case where you don't have full control of the loaded file. Please open an issue on GitHub for any issues related to this experimental feature.\n",
      "  angles = torch.load(\"protein_angles_100sanity_128.pt\")\n"
     ]
    },
    {
     "data": {
      "image/png": "[encoded data removed]",
      "text/plain": [
       "<Figure size 640x480 with 1 Axes>"
      ]
     },
     "metadata": {},
     "output_type": "display_data"
    }
   ],
   "source": [
    "import torch\n",
    "import numpy as np\n",
    "import matplotlib.pyplot as plt\n",
    "angles = torch.load(\"protein_angles_100sanity_128.pt\")\n",
    "_ = plt.hist(angles.reshape(-1, 6)[:,1], bins=100, range=(-np.pi, np.pi))"
   ]
  },
  {
   "cell_type": "code",
   "execution_count": 26,
   "metadata": {},
   "outputs": [
    {
     "data": {
      "image/png": "[encoded data removed]",
      "text/plain": [
       "<Figure size 640x480 with 1 Axes>"
      ]
     },
     "metadata": {},
     "output_type": "display_data"
    }
   ],
   "source": [
    "import matplotlib.pyplot as plt\n",
    "\n",
    "# Sample data for two histograms\n",
    "data1 = [1, 2, 2, 3, 4, 4, 5, 5, 6, 7, 8, 8, 9, 10]\n",
    "data2 = [2, 3, 3, 4, 5, 6, 6, 7, 8, 8, 9, 10, 11, 12]\n",
    "\n",
    "# Plot histograms\n",
    "plt.hist(data1, bins=10, alpha=0.5, label='Dataset 1', color='blue')\n",
    "plt.hist(data2, bins=10, alpha=0.5, label='Dataset 2', color='orange')\n",
    "\n",
    "# Add labels and title\n",
    "plt.xlabel('Value')\n",
    "plt.ylabel('Frequency')\n",
    "plt.title('Histogram of Two Datasets')\n",
    "plt.legend()\n",
    "\n",
    "# Show plot\n",
    "plt.show()\n"
   ]
  },
  {
   "cell_type": "code",
   "execution_count": null,
   "metadata": {},
   "outputs": [],
   "source": []
  }
 ],
 "metadata": {
  "kernelspec": {
   "display_name": "Python 3",
   "language": "python",
   "name": "python3"
  },
  "language_info": {
   "codemirror_mode": {
    "name": "ipython",
    "version": 3
   },
   "file_extension": ".py",
   "mimetype": "text/x-python",
   "name": "python",
   "nbconvert_exporter": "python",
   "pygments_lexer": "ipython3",
   "version": "3.8.19"
  },
  "orig_nbformat": 4
 },
 "nbformat": 4,
 "nbformat_minor": 2
}
